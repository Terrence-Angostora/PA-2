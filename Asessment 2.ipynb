{
 "cells": [
  {
   "cell_type": "markdown",
   "id": "ef3b7b1f-069f-4f4e-a22d-960d6eb01b6e",
   "metadata": {},
   "source": [
    "# Assessment 2\n"
   ]
  },
  {
   "cell_type": "markdown",
   "id": "86e5e12b-96ac-4caa-a9f3-54e719fdf3c5",
   "metadata": {},
   "source": [
    "#### NORMALIZATION PROBLEM: Normalization is one of the most basic preprocessing techniques in\n",
    "#### data analytics. This involves centering and scaling process. Centering means subtracting the data from the\n",
    "#### mean and scaling means dividing with its standard deviation. Mathematically, normalization can be\n",
    "#### expressed as:"
   ]
  },
  {
   "cell_type": "markdown",
   "id": "ed24ec1f-24e2-4e6d-9256-dd48dae99b8d",
   "metadata": {},
   "source": [
    "#### 𝑍 = 𝑋 − 𝑥̅/𝜎\n",
    "\n",
    "#### In Python, element-wise mean and element-wise standard deviation can be obtained by using .mean() and\n",
    "#### .std() calls.\n",
    "#### In this problem, create a random 5 x 5 ndarray and store it to variable X. Normalize X. Save your normalized\n",
    "#### ndarray as X_normalized.npy\n"
   ]
  },
  {
   "cell_type": "code",
   "execution_count": 25,
   "id": "fa2185f0-adea-46f9-8c60-7e848ec9b7b1",
   "metadata": {},
   "outputs": [
    {
     "name": "stdout",
     "output_type": "stream",
     "text": [
      "[[-0.7344089   1.52488074  0.01731033  1.17999095  0.22829843]\n",
      " [-1.24366195 -1.11709545 -0.94618804  0.06146944  1.48476261]\n",
      " [ 1.25874913  1.61685212  0.89508668 -1.42035566  0.3282448 ]\n",
      " [-1.39287259  0.60935862 -0.03241492  0.49590001 -0.18393308]\n",
      " [ 1.0178742  -1.32865176 -1.24658191 -0.80520296 -0.26741083]]\n"
     ]
    }
   ],
   "source": [
    "#import numpy \n",
    "import numpy as np\n",
    "\n",
    "#Generate random numbers 5 by 5\n",
    "x = np.random.random((5,5))\n",
    "\n",
    "#Making use of the mean function to calculate the mean of the random numbers \n",
    "mean = x.mean()\n",
    "\n",
    "#calculating the standard Deviation\n",
    "standard = x.std()\n",
    "\n",
    "#Performing the formula by each of the random number\n",
    "Normalize_X = (x - mean) / standard\n",
    "\n",
    "#Print the results\n",
    "print(Normalize_X)\n",
    "\n",
    "np.save(\"X_Normalize.npy\",Normalize_X)\n",
    "\n"
   ]
  },
  {
   "cell_type": "markdown",
   "id": "aff22685-dc87-40b2-98e4-09b789406f45",
   "metadata": {},
   "source": [
    "#### 2. DIVISIBLE BY 3 PROBLEM: Create the Following 10x10 ndarray\n",
    "#### Which are the squares of the first 100 positive integers.\n",
    "#### From this ndarray, determine all the Elements that are divisible by 3. Save the Results as div_by_3.npy"
   ]
  },
  {
   "cell_type": "code",
   "execution_count": 66,
   "id": "486b8825-fcd1-488b-a026-d313c518345f",
   "metadata": {},
   "outputs": [
    {
     "name": "stdout",
     "output_type": "stream",
     "text": [
      "[[    1     4     9    16    25    36    49    64    81   100]\n",
      " [  121   144   169   196   225   256   289   324   361   400]\n",
      " [  441   484   529   576   625   676   729   784   841   900]\n",
      " [  961  1024  1089  1156  1225  1296  1369  1444  1521  1600]\n",
      " [ 1681  1764  1849  1936  2025  2116  2209  2304  2401  2500]\n",
      " [ 2601  2704  2809  2916  3025  3136  3249  3364  3481  3600]\n",
      " [ 3721  3844  3969  4096  4225  4356  4489  4624  4761  4900]\n",
      " [ 5041  5184  5329  5476  5625  5776  5929  6084  6241  6400]\n",
      " [ 6561  6724  6889  7056  7225  7396  7569  7744  7921  8100]\n",
      " [ 8281  8464  8649  8836  9025  9216  9409  9604  9801 10000]]\n"
     ]
    },
    {
     "data": {
      "text/plain": [
       "array([   9,   36,   81,  144,  225,  324,  441,  576,  729,  900, 1089,\n",
       "       1296, 1521, 1764, 2025, 2304, 2601, 2916, 3249, 3600, 3969, 4356,\n",
       "       4761, 5184, 5625, 6084, 6561, 7056, 7569, 8100, 8649, 9216, 9801])"
      ]
     },
     "execution_count": 66,
     "metadata": {},
     "output_type": "execute_result"
    }
   ],
   "source": [
    "#import the Numpy\n",
    "import numpy as np\n",
    "\n",
    "#Make an 1-100 numbers and power it by 2\n",
    "arr1 = np.linspace(1,100,100,dtype = int) **2\n",
    "#re-shape the numbers into 10 by 10 array\n",
    "Nd = arr1.reshape(10,10)\n",
    "\n",
    "#print the re-shaped numbers\n",
    "print(Nd)\n",
    "#initialize the list\n",
    "div_by_3 = []\n",
    "\n",
    "#make a loop to test each number\n",
    "for i in arr1:\n",
    "#check each number if divisible by 3 and if it is divisible it is going to the list of the initialized list\n",
    "    if i % 3 ==0:\n",
    "        div_by_3.append(i)\n",
    "\n",
    "#saving the file \n",
    "np.save(\"div_by_3.npy\",div_by_3)\n",
    "#loading the file\n",
    "np.load(\"div_by_3.npy\")\n",
    "    \n"
   ]
  },
  {
   "cell_type": "code",
   "execution_count": null,
   "id": "1f54c7fe-727f-4652-9c95-337e3a83d599",
   "metadata": {},
   "outputs": [],
   "source": []
  }
 ],
 "metadata": {
  "kernelspec": {
   "display_name": "Python 3 (ipykernel)",
   "language": "python",
   "name": "python3"
  },
  "language_info": {
   "codemirror_mode": {
    "name": "ipython",
    "version": 3
   },
   "file_extension": ".py",
   "mimetype": "text/x-python",
   "name": "python",
   "nbconvert_exporter": "python",
   "pygments_lexer": "ipython3",
   "version": "3.12.4"
  }
 },
 "nbformat": 4,
 "nbformat_minor": 5
}
